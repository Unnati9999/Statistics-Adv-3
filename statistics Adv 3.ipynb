{
 "cells": [
  {
   "cell_type": "markdown",
   "id": "105cac0c-83a5-4ec5-817e-0554e0d00c22",
   "metadata": {},
   "source": [
    "Q1: What is Estimation Statistics? Explain point estimate and interval estimate."
   ]
  },
  {
   "cell_type": "markdown",
   "id": "e3366565-133c-4ee8-880f-4a061b1ba248",
   "metadata": {},
   "source": [
    "A point estimate is a single value estimate of a parameter. For instance, a sample mean is a point estimate of a population mean. An interval estimate gives you a range of values where the parameter is expected to lie. A confidence interval is the most common type of interval estimate."
   ]
  },
  {
   "cell_type": "markdown",
   "id": "f1c95dde-9328-42c2-85de-d4b32c9b1e03",
   "metadata": {},
   "source": [
    "Estimation is the process by which the numerical value of unknown population values are inferred from incomplete data, such as a sample. If a single figure is calculated for each unknown parameter, the process is called point estimation."
   ]
  },
  {
   "cell_type": "code",
   "execution_count": null,
   "id": "d6c3893d-10f3-44e1-9f8b-c38a64fc9f08",
   "metadata": {},
   "outputs": [],
   "source": []
  },
  {
   "cell_type": "markdown",
   "id": "a707a592-65d8-4b55-85a8-a94aa5b0557c",
   "metadata": {},
   "source": [
    "Q2. Write a Python function to estimate the population mean using a sample mean and standard\n",
    "deviation."
   ]
  },
  {
   "cell_type": "code",
   "execution_count": 2,
   "id": "0d1c4e1b-a9e0-4ce5-9c46-a8d057699704",
   "metadata": {},
   "outputs": [],
   "source": [
    "import numpy as np \n",
    "import matplotlib.pyplot as plt \n",
    "import pandas as pd\n",
    "d = np.random.normal(50,10,1000)"
   ]
  },
  {
   "cell_type": "code",
   "execution_count": 3,
   "id": "5c71f633-54c0-4978-8b90-6e0cf8b28bee",
   "metadata": {},
   "outputs": [],
   "source": [
    "s = np.random.choice(d, 10)"
   ]
  },
  {
   "cell_type": "code",
   "execution_count": 6,
   "id": "6434a6db-4fe3-44ec-87ee-d50dfb1199b5",
   "metadata": {},
   "outputs": [
    {
     "name": "stdout",
     "output_type": "stream",
     "text": [
      "[39.92549747 55.09654171]\n",
      "[ 7.30787723 19.40774476]\n"
     ]
    },
    {
     "data": {
      "image/png": "[encoded data removed]",
      "text/plain": [
       "<Figure size 640x480 with 1 Axes>"
      ]
     },
     "metadata": {},
     "output_type": "display_data"
    },
    {
     "data": {
      "image/png": "[encoded data removed]",
      "text/plain": [
       "<Figure size 640x480 with 1 Axes>"
      ]
     },
     "metadata": {},
     "output_type": "display_data"
    }
   ],
   "source": [
    "from scipy.stats import norm, chi2\n",
    "\n",
    "import numpy as np\n",
    "import matplotlib.pyplot as plt\n",
    "\n",
    "\n",
    "population = norm(loc = 50, scale = 10)\n",
    "\n",
    "n = 10\n",
    "samp = population.rvs(n)\n",
    "\n",
    "ybar = samp.mean()\n",
    "s = samp.var(ddof = 1)\n",
    "\n",
    "var_posterior = (n-1)*s/chi2(df =n-1).rvs(100_000)\n",
    "mu_posterior = norm(loc = ybar, scale = np.sqrt(var_posterior/n)).rvs()\n",
    "\n",
    "\n",
    "#Now for credible intevals\n",
    "print(np.percentile(mu_posterior, [2.5, 97.5]))\n",
    "print(np.percentile(np.sqrt(var_posterior), [2.5, 97.5]))\n",
    "\n",
    "fig, ax = plt.subplots()\n",
    "ax.hist(mu_posterior, bins = 25)\n",
    "\n",
    "fig,ax = plt.subplots()\n",
    "ax.hist(np.sqrt(var_posterior), bins = 25)\n",
    "plt.show()"
   ]
  },
  {
   "cell_type": "code",
   "execution_count": null,
   "id": "4d4938bf-bfd3-43fa-8099-113e0b182f38",
   "metadata": {},
   "outputs": [],
   "source": []
  },
  {
   "cell_type": "markdown",
   "id": "2a6f907f-99ed-4c31-9eeb-b1d6752ae335",
   "metadata": {},
   "source": [
    "Q3: What is Hypothesis testing? Why is it used? State the importance of Hypothesis testing."
   ]
  },
  {
   "cell_type": "markdown",
   "id": "c02aaa5e-b702-4e0f-abb2-eef5fda96e34",
   "metadata": {},
   "source": [
    "The purpose of hypothesis testing is to test whether the null hypothesis (there is no difference, no effect) can be rejected or approved. If the null hypothesis is rejected, then the research hypothesis can be accepted."
   ]
  },
  {
   "cell_type": "markdown",
   "id": "5a479527-76f1-42cf-a500-6d31b8e98b02",
   "metadata": {},
   "source": [
    "Key Takeaways. Hypothesis testing is used to assess the plausibility of a hypothesis by using sample data. The test provides evidence concerning the plausibility of the hypothesis, given the data. Statistical analysts test a hypothesis by measuring and examining a random sample of the population being analyzed."
   ]
  },
  {
   "cell_type": "markdown",
   "id": "3d005b7a-8298-4dd9-bdaa-65828e869128",
   "metadata": {},
   "source": [
    "A t test is a statistical test that is used to compare the means of two groups. It is often used in hypothesis testing to determine whether a process or treatment actually has an effect on the population of interest, or whether two groups are different from one another."
   ]
  },
  {
   "cell_type": "code",
   "execution_count": null,
   "id": "473844c7-a313-4c89-b83c-031a3e00f3c4",
   "metadata": {},
   "outputs": [],
   "source": []
  },
  {
   "cell_type": "markdown",
   "id": "10794f6c-d07e-4880-a0c2-f373d5aec8dd",
   "metadata": {},
   "source": [
    "Q4. Create a hypothesis that states whether the average weight of male college students is greater than\n",
    "the average weight of female college students."
   ]
  },
  {
   "cell_type": "code",
   "execution_count": 7,
   "id": "dcfb5ea3-3a18-4cc2-9bce-b8321ec6c6bb",
   "metadata": {},
   "outputs": [],
   "source": [
    "import numpy as np\n",
    "import scipy.stats as stats"
   ]
  },
  {
   "cell_type": "code",
   "execution_count": 17,
   "id": "1351f6e9-3a77-49b1-8cc2-be505ff2af86",
   "metadata": {},
   "outputs": [],
   "source": [
    "# Create a dummy dataset of college boys weight\n",
    "data = np.random.randint(40, 50)\n",
    "# create a dummy dataset of college girls weight \n",
    "data = np.random.randint(30, 35)"
   ]
  },
  {
   "cell_type": "code",
   "execution_count": 18,
   "id": "733a3762-9155-4f87-8257-dc4a2eb82620",
   "metadata": {},
   "outputs": [],
   "source": [
    "# Define the null hypothesis\n",
    "H0 = \"The average weight of college girl  is 32kg.\"\n",
    "\n",
    "# Define the alternative hypothesis\n",
    "H1 = \"The average weight of college boy  is more than 32kg.\""
   ]
  },
  {
   "cell_type": "code",
   "execution_count": 20,
   "id": "b1367fc2-112c-4e0b-b5a5-c32739dcc90d",
   "metadata": {},
   "outputs": [
    {
     "name": "stderr",
     "output_type": "stream",
     "text": [
      "/tmp/ipykernel_91/3755151397.py:2: RuntimeWarning: Precision loss occurred in moment calculation due to catastrophic cancellation. This occurs when the data are nearly identical. Results may be unreliable.\n",
      "  t_stat, p_value = stats.ttest_1samp(data, 33)\n"
     ]
    }
   ],
   "source": [
    "# Calculate the test statistic\n",
    "t_stat, p_value = stats.ttest_1samp(data, 33)"
   ]
  },
  {
   "cell_type": "code",
   "execution_count": 21,
   "id": "fba96317-024d-4c85-a8e3-0a1d60bd9a11",
   "metadata": {},
   "outputs": [
    {
     "name": "stdout",
     "output_type": "stream",
     "text": [
      "Test statistic: nan\n",
      "p-value: nan\n"
     ]
    }
   ],
   "source": [
    "# Print the results\n",
    "print(\"Test statistic:\", t_stat)\n",
    "print(\"p-value:\", p_value)"
   ]
  },
  {
   "cell_type": "code",
   "execution_count": 22,
   "id": "edf2221b-0d54-4763-a6b3-a571ccd63b6e",
   "metadata": {},
   "outputs": [
    {
     "name": "stdout",
     "output_type": "stream",
     "text": [
      "Fail to reject the null hypothesis.\n"
     ]
    }
   ],
   "source": [
    "# Conclusion\n",
    "if p_value < 0.05:\n",
    "    print(\"Reject the null hypothesis.\")\n",
    "else:\n",
    "    print(\"Fail to reject the null hypothesis.\")"
   ]
  },
  {
   "cell_type": "code",
   "execution_count": null,
   "id": "945c6985-2ef3-4186-b1ff-ab9ef4243ac3",
   "metadata": {},
   "outputs": [],
   "source": []
  },
  {
   "cell_type": "markdown",
   "id": "f59416f5-ece0-4242-b43e-a63195508f3e",
   "metadata": {},
   "source": [
    "Q5. Write a Python script to conduct a hypothesis test on the difference between two population means,\n",
    "given a sample from each population."
   ]
  },
  {
   "cell_type": "markdown",
   "id": "f7919ee0-647a-4f46-b89e-29c62db10b7e",
   "metadata": {},
   "source": [
    "Method 1: Using Scipy library"
   ]
  },
  {
   "cell_type": "code",
   "execution_count": 23,
   "id": "501e46fb-121f-4168-9316-58a757470499",
   "metadata": {},
   "outputs": [
    {
     "name": "stdout",
     "output_type": "stream",
     "text": [
      "7.727500000000001 12.260000000000002\n"
     ]
    }
   ],
   "source": [
    "# Python program to display variance of data groups\n",
    "\n",
    "# Import library\n",
    "import scipy.stats as stats\n",
    "\n",
    "# Creating data groups\n",
    "data_group1 = np.array([14, 15, 15, 16, 13, 8, 14,\n",
    "\t\t\t\t\t\t17, 16, 14, 19, 20, 21, 15,\n",
    "\t\t\t\t\t\t15, 16, 16, 13, 14, 12])\n",
    "data_group2 = np.array([15, 17, 14, 17, 14, 8, 12,\n",
    "\t\t\t\t\t\t19, 19, 14, 17, 22, 24, 16,\n",
    "\t\t\t\t\t\t13, 16, 13, 18, 15, 13])\n",
    "\n",
    "# Print the variance of both data groups\n",
    "print(np.var(data_group1), np.var(data_group2))\n"
   ]
  },
  {
   "cell_type": "code",
   "execution_count": 24,
   "id": "7eac7bbf-3fed-46d0-952c-b1d2d3708323",
   "metadata": {},
   "outputs": [
    {
     "data": {
      "text/plain": [
       "Ttest_indResult(statistic=-0.6337397070250238, pvalue=0.5300471010405257)"
      ]
     },
     "execution_count": 24,
     "metadata": {},
     "output_type": "execute_result"
    }
   ],
   "source": [
    "# Python program to demonstrate how to \n",
    "# perform two sample T-test\n",
    "\n",
    "# Import the library\n",
    "import scipy.stats as stats\n",
    "\n",
    "# Creating data groups\n",
    "data_group1 = np.array([14, 15, 15, 16, 13, 8, 14, \n",
    "\t\t\t\t\t\t17, 16, 14, 19, 20, 21, 15,\n",
    "\t\t\t\t\t\t15, 16, 16, 13, 14, 12])\n",
    "\n",
    "data_group2 = np.array([15, 17, 14, 17, 14, 8, 12, \n",
    "\t\t\t\t\t\t19, 19, 14, 17, 22, 24, 16, \n",
    "\t\t\t\t\t\t13, 16, 13, 18, 15, 13])\n",
    "\n",
    "# Perform the two sample t-test with equal variances\n",
    "stats.ttest_ind(a=data_group1, b=data_group2, equal_var=True)\n"
   ]
  },
  {
   "cell_type": "code",
   "execution_count": null,
   "id": "7c70dae6-a754-439f-8191-f58712c039f2",
   "metadata": {},
   "outputs": [],
   "source": []
  },
  {
   "cell_type": "markdown",
   "id": "9c9b505a-65d7-43a7-b27f-9b777be170c5",
   "metadata": {},
   "source": [
    "Q6: What is a null and alternative hypothesis? Give some examples."
   ]
  },
  {
   "cell_type": "markdown",
   "id": "8fd311a0-649f-437c-ba3b-d8f92629b8f7",
   "metadata": {},
   "source": [
    "Null Hypothesis: H0: There is no relationship between height and shoe size. Alternative Hypothesis: Ha: There is a positive relationship between height and shoe size."
   ]
  },
  {
   "cell_type": "markdown",
   "id": "a51a7eb7-057d-4624-aad3-88c4db3d824c",
   "metadata": {},
   "source": [
    "The null hypothesis is the one to be tested and the alternative is everything else. In our example: The null hypothesis would be: The mean data scientist salary is 113,000 dollars. While the alternative: The mean data scientist salary is not 113,000 dollars."
   ]
  },
  {
   "cell_type": "code",
   "execution_count": null,
   "id": "c04c8e54-ee9c-4638-831e-c18063909dd6",
   "metadata": {},
   "outputs": [],
   "source": []
  },
  {
   "cell_type": "markdown",
   "id": "e4030489-8105-4dae-8f9e-8eafe1cbf1c5",
   "metadata": {},
   "source": [
    "Q7: Write down the steps involved in hypothesis testing."
   ]
  },
  {
   "cell_type": "markdown",
   "id": "e28d32a4-91e2-4099-b427-daaaa4a51ce6",
   "metadata": {},
   "source": [
    "1.Identify Population and Sample.                                                               \n",
    "2.State the Hypotheses in terms of population parameters.                                                          \n",
    "3.State Assumptions and Check Conditions.                                                                      \n",
    "4.Calculate the Test Statistic.                                                                       \n",
    "5.Calculate the P-value.                                                                                      \n",
    "6.State the Conclusion.                                                                                          "
   ]
  },
  {
   "cell_type": "code",
   "execution_count": null,
   "id": "bf9185ca-9dda-46c7-a4c2-500a58e35c71",
   "metadata": {},
   "outputs": [],
   "source": []
  },
  {
   "cell_type": "markdown",
   "id": "01df812a-6559-432e-b7e7-4c85064e109c",
   "metadata": {},
   "source": [
    "Q8. Define p-value and explain its significance in hypothesis testing."
   ]
  },
  {
   "cell_type": "markdown",
   "id": "0afc6107-6777-4844-a230-86ae0b49db97",
   "metadata": {},
   "source": [
    "The p value is a number, calculated from a statistical test, that describes how likely you are to have found a particular set of observations if the null hypothesis were true. P values are used in hypothesis testing to help decide whether to reject the null hypothesis."
   ]
  },
  {
   "cell_type": "markdown",
   "id": "2502e140-b70e-45f3-88d9-1895b3b79a34",
   "metadata": {},
   "source": [
    "The P value is defined as the probability under the assumption of no effect or no difference (null hypothesis), of obtaining a result equal to or more extreme than what was actually observed. The P stands for probability and measures how likely it is that any observed difference between groups is due to chance."
   ]
  },
  {
   "cell_type": "code",
   "execution_count": null,
   "id": "c9258f29-ba96-45d0-a555-c57b7e0e5858",
   "metadata": {},
   "outputs": [],
   "source": []
  },
  {
   "cell_type": "markdown",
   "id": "42c5e837-a636-4a3e-9eac-9de5dafe541a",
   "metadata": {},
   "source": [
    "Q9. Generate a Student's t-distribution plot using Python's matplotlib library, with the degrees of freedom\n",
    "parameter set to 10."
   ]
  },
  {
   "cell_type": "code",
   "execution_count": 31,
   "id": "4d43a619-8f89-4a48-99d9-29e95f5e9eb1",
   "metadata": {},
   "outputs": [
    {
     "name": "stdout",
     "output_type": "stream",
     "text": [
      "Random Values:  [4.12033956 2.62695997 3.42097117 2.18822378 2.16868628 2.66288149\n",
      " 3.90903018 2.04972228 2.11684286 3.6360976 ]\n"
     ]
    }
   ],
   "source": [
    "from scipy.stats import t\n",
    "\n",
    "a, b = 4, 3\n",
    "rv = t(a, b)\n",
    "\n",
    "# Generate random values from the t-distribution\n",
    "# Replace 10 with the desired number of random values\n",
    "random_values = rv.rvs(size=10) \n",
    "\n",
    "print(\"Random Values: \", random_values)\n"
   ]
  },
  {
   "cell_type": "code",
   "execution_count": 35,
   "id": "efe2ae29-eab2-42d1-9edb-a06b61e3eef3",
   "metadata": {},
   "outputs": [
    {
     "name": "stdout",
     "output_type": "stream",
     "text": [
      "distribution: , distribution\n"
     ]
    },
    {
     "data": {
      "image/png": "[encoded data removed]",
      "text/plain": [
       "<Figure size 640x480 with 1 Axes>"
      ]
     },
     "metadata": {},
     "output_type": "display_data"
    }
   ],
   "source": [
    "import numpy as np\n",
    "import matplotlib.pyplot as plt\n",
    "\n",
    "distribution = np.linspace(0, np.minimum(rv.dist.b, 3))\n",
    "print(\"distribution: , distribution\")\n",
    "\n",
    "plot = plt.plot(distribution, rv.pdf(distribution))\n"
   ]
  },
  {
   "cell_type": "code",
   "execution_count": null,
   "id": "9694ff22-650f-40ae-942a-0aa09c9415d5",
   "metadata": {},
   "outputs": [],
   "source": []
  },
  {
   "cell_type": "markdown",
   "id": "db22b8ef-84de-4a03-ba86-4a230099dc4f",
   "metadata": {},
   "source": [
    "Q10. Write a Python program to calculate the two-sample t-test for independent samples, given two\n",
    "random samples of equal size and a null hypothesis that the population means are equal."
   ]
  },
  {
   "cell_type": "code",
   "execution_count": 36,
   "id": "ab95daaf-7263-46cb-bc16-a9e6a8319a93",
   "metadata": {},
   "outputs": [
    {
     "name": "stdout",
     "output_type": "stream",
     "text": [
      "7.727500000000001 12.260000000000002\n"
     ]
    }
   ],
   "source": [
    "# Python program to display variance of data groups\n",
    "\n",
    "# Import library\n",
    "import scipy.stats as stats\n",
    "\n",
    "# Creating data groups\n",
    "data_group1 = np.array([14, 15, 15, 16, 13, 8, 14,\n",
    "\t\t\t\t\t\t17, 16, 14, 19, 20, 21, 15,\n",
    "\t\t\t\t\t\t15, 16, 16, 13, 14, 12])\n",
    "data_group2 = np.array([15, 17, 14, 17, 14, 8, 12,\n",
    "\t\t\t\t\t\t19, 19, 14, 17, 22, 24, 16,\n",
    "\t\t\t\t\t\t13, 16, 13, 18, 15, 13])\n",
    "\n",
    "# Print the variance of both data groups\n",
    "print(np.var(data_group1), np.var(data_group2))\n"
   ]
  },
  {
   "cell_type": "code",
   "execution_count": null,
   "id": "4b74a18e-0a03-456b-ae85-b34c9a7c5565",
   "metadata": {},
   "outputs": [],
   "source": []
  },
  {
   "cell_type": "markdown",
   "id": "2eabe103-62e9-45a9-9600-42697d80bad7",
   "metadata": {},
   "source": [
    "Q11: What is Student’s t distribution? When to use the t-Distribution."
   ]
  },
  {
   "cell_type": "markdown",
   "id": "3c06c01f-8b55-482f-9a5f-7f74713e92c7",
   "metadata": {},
   "source": [
    "The t-distribution, also known as the Student's t-distribution, is a type of probability distribution that is similar to the normal distribution with its bell shape but has heavier tails. It is used for estimating population parameters for small sample sizes or unknown variances."
   ]
  },
  {
   "cell_type": "markdown",
   "id": "28e7719e-cf73-4cd0-a96a-932aa961bce8",
   "metadata": {},
   "source": [
    "You must use the t-distribution table when working problems when the population standard deviation (σ) is not known and the sample size is small (n<30). General Correct Rule: If σ is not known, then using t-distribution is correct. If σ is known, then using the normal distribution is correct."
   ]
  },
  {
   "cell_type": "code",
   "execution_count": null,
   "id": "8fac5ab1-0481-4118-9e10-8edb45dd6045",
   "metadata": {},
   "outputs": [],
   "source": []
  },
  {
   "cell_type": "markdown",
   "id": "8108d62e-e114-48e9-b498-101879850a69",
   "metadata": {},
   "source": [
    "Q12: What is t-statistic? State the formula for t-statistic."
   ]
  },
  {
   "cell_type": "markdown",
   "id": "08fcbefc-93d9-4dd2-855b-4bcd9c1fb7b0",
   "metadata": {},
   "source": [
    "In statistics, the t-statistic is the ratio of the departure of the estimated value of a parameter from its hypothesized value to its standard error. It is used in hypothesis testing via Student's t-test. The t-statistic is used in a t-test to determine whether to support or reject the null hypothesis."
   ]
  },
  {
   "cell_type": "markdown",
   "id": "9d996cc4-2440-49d7-abfe-b7a62047ed8a",
   "metadata": {},
   "source": [
    "You can calculate a t-value using a common t-test with the formula: t = (X‾ - μ0) / (s / √n), where X‾ is the sample mean, μ0 represents the population mean, s is the standard deviation of the sample and n stands for the size of the sample."
   ]
  },
  {
   "cell_type": "markdown",
   "id": "b5476833-6d54-47d1-80a3-16d4079c4108",
   "metadata": {},
   "source": [
    " A t test is a statistical test that is used to compare the means of two groups. It is often used in hypothesis testing to determine whether a process or treatment actually has an effect on the population of interest, or whether two groups are different from one another."
   ]
  },
  {
   "cell_type": "code",
   "execution_count": null,
   "id": "136562c5-406c-4311-9a36-0a924581ccd2",
   "metadata": {},
   "outputs": [],
   "source": []
  },
  {
   "cell_type": "markdown",
   "id": "64e3724e-b708-41af-b12e-71fb2e76ef15",
   "metadata": {},
   "source": [
    "Q13. A coffee shop owner wants to estimate the average daily revenue for their shop. They take a random\n",
    "sample of 50 days and find the sample mean revenue to be $ 500 with a standard deviation of $50.\n",
    "Estimate the population mean revenue with a 95% confidence interval."
   ]
  },
  {
   "cell_type": "markdown",
   "id": "7f15c957-f1f8-42be-b219-05787b351e1d",
   "metadata": {},
   "source": [
    "cv = standard deviation * 100 / mean \n",
    "\n",
    "95% = 50* 100 / means                                        \n",
    "50*100/0.95                                 \n",
    "5,263.157894736842                            \n"
   ]
  },
  {
   "cell_type": "code",
   "execution_count": null,
   "id": "a31a6a51-7a4c-442f-bf46-3d28c0f808f6",
   "metadata": {},
   "outputs": [],
   "source": []
  },
  {
   "cell_type": "markdown",
   "id": "46a2a9b2-6c20-4754-bc8e-5085b6b07364",
   "metadata": {},
   "source": [
    "Q14. A researcher hypothesizes that a new drug will decrease blood pressure by 10 mmHg. They conduct a\n",
    "clinical trial with 100 patients and find that the sample mean decrease in blood pressure is 8 mmHg with a\n",
    "standard deviation of 3 mmHg. Test the hypothesis with a significance level of 0.05."
   ]
  },
  {
   "cell_type": "code",
   "execution_count": null,
   "id": "18acfcd3-7aed-47b0-9702-aea2375c1b16",
   "metadata": {},
   "outputs": [],
   "source": []
  },
  {
   "cell_type": "markdown",
   "id": "b62dde87-2a97-43cd-8486-773dcc8bb6a0",
   "metadata": {},
   "source": [
    "Q15. An electronics company produces a certain type of product with a mean weight of 5 pounds and a\n",
    "standard deviation of 0.5 pounds. A random sample of 25 products is taken, and the sample mean weight\n",
    "is found to be 4.8 pounds. Test the hypothesis that the true mean weight of the products is less than 5\n",
    "pounds with a significance level of 0.01."
   ]
  },
  {
   "cell_type": "code",
   "execution_count": null,
   "id": "e9fb7511-8324-4b18-9cf1-2508cb2aa9b0",
   "metadata": {},
   "outputs": [],
   "source": []
  },
  {
   "cell_type": "markdown",
   "id": "f968c4ca-7659-46f4-9aef-f02ae7f5be94",
   "metadata": {},
   "source": [
    "Q16. Two groups of students are given different study materials to prepare for a test. The first group (n1 =\n",
    "30) has a mean score of 80 with a standard deviation of 10, and the second group (n2 = 40) has a mean\n",
    "score of 75 with a standard deviation of 8. Test the hypothesis that the population means for the two\n",
    "groups are equal with a significance level of 0.01."
   ]
  },
  {
   "cell_type": "code",
   "execution_count": null,
   "id": "5c98d234-f573-44a8-8cb2-b4f05e2088fc",
   "metadata": {},
   "outputs": [],
   "source": []
  },
  {
   "cell_type": "markdown",
   "id": "7042e777-f5c4-47d4-baab-0df86c7dc0f2",
   "metadata": {},
   "source": [
    "Q16. Two groups of students are given different study materials to prepare for a test. The first group (n1 =\n",
    "30) has a mean score of 80 with a standard deviation of 10, and the second group (n2 = 40) has a mean\n",
    "score of 75 with a standard deviation of 8. Test the hypothesis that the population means for the two\n",
    "groups are equal with a significance level of 0.01."
   ]
  },
  {
   "cell_type": "code",
   "execution_count": null,
   "id": "ee10e029-8887-4b02-84ee-c89d0842b942",
   "metadata": {},
   "outputs": [],
   "source": []
  }
 ],
 "metadata": {
  "kernelspec": {
   "display_name": "Python 3 (ipykernel)",
   "language": "python",
   "name": "python3"
  },
  "language_info": {
   "codemirror_mode": {
    "name": "ipython",
    "version": 3
   },
   "file_extension": ".py",
   "mimetype": "text/x-python",
   "name": "python",
   "nbconvert_exporter": "python",
   "pygments_lexer": "ipython3",
   "version": "3.10.8"
  }
 },
 "nbformat": 4,
 "nbformat_minor": 5
}
